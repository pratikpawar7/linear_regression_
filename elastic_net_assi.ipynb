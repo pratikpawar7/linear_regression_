{
 "cells": [
  {
   "cell_type": "code",
   "execution_count": null,
   "id": "13f11db7-ae82-40fc-bbd5-80f3d0151b89",
   "metadata": {},
   "outputs": [],
   "source": [
    "'''\n",
    "Q1. What is Elastic Net Regression and how does it differ from other regression techniques?\n",
    "'''\n",
    "Elastic Net Regression is a regularized regression technique that combines both L1 (Lasso) \n",
    "and L2 (Ridge) regularization methods. It addresses the limitations of each method:\n",
    "\n",
    "Lasso (L1): Shrinks coefficients and can set some to exactly zero, making it useful for feature selection\n",
    "            , but it can struggle when dealing with highly correlated features.\n",
    "Ridge (L2): Shrinks coefficients but keeps all features, preventing coefficients from going to zero,\n",
    "            and handles multicollinearity better.\n",
    "                \n",
    "Elastic Net combines these penalties to get the benefits of both:\n",
    "\n",
    "L1 term (Lasso): Drives some coefficients to zero, performing feature selection.\n",
    "L2 term (Ridge): Stabilizes the solution when features are highly correlated.\n",
    "    \n",
    "Difference from other techniques:\n",
    "\n",
    "Ridge only applies L2 regularization.\n",
    "Lasso only applies L1 regularization.\n",
    "Elastic Net balances between L1 and L2 penalties, combining the strengths of both."
   ]
  },
  {
   "cell_type": "code",
   "execution_count": null,
   "id": "e8f36212-b4fc-44c8-8799-aed733df6b3f",
   "metadata": {},
   "outputs": [],
   "source": [
    "'''\n",
    "Q2. How do you choose the optimal values of the regularization parameters for Elastic Net Regression?\n",
    "'''\n",
    "\n",
    "The optimal values for the regularization parameters, \n",
    "\n",
    "compute performance metrics (e.g., MSE, R-squared).\n",
    "Choose the values that result in the lowest validation error or highest performance metric.\n"
   ]
  },
  {
   "cell_type": "code",
   "execution_count": null,
   "id": "47e97d17-ad85-48f7-88bd-be5d651b5f57",
   "metadata": {},
   "outputs": [],
   "source": [
    "'''\n",
    "Q3. What are the advantages and disadvantages of Elastic Net Regression?\n",
    "'''\n",
    "\n",
    "Advantages:\n",
    "\n",
    "Feature Selection: The L1 penalty performs automatic feature selection by shrinking some coefficients to zero.\n",
    "Handles Multicollinearity: The L2 penalty stabilizes the model when features are highly correlated.\n",
    "Flexibility: Combines the strengths of both Lasso and Ridge, making it robust for various datasets.\n",
    "\n",
    "Disadvantages:\n",
    "\n",
    "Complexity in Tuning: Requires tuning two hyperparameters (\n",
    " which can increase computational cost.\n",
    "May Overpenalize: When not tuned properly, it may penalize too much, causing underfitting."
   ]
  },
  {
   "cell_type": "code",
   "execution_count": null,
   "id": "9a6fd3e1-ab24-4da6-85fc-1ff2184533ac",
   "metadata": {},
   "outputs": [],
   "source": [
    "'''\n",
    "Q4. What are some common use cases for Elastic Net Regression?\n",
    "'''\n",
    "\n",
    "Genomics and bioinformatics: When there are more features (variables) than samples (observations), \n",
    "and many features are correlated (e.g., gene expression data).\n",
    "\n",
    "Finance: Predicting stock prices where several financial indicators are correlated.\n",
    "Feature Selection: Any case where both feature selection and handling multicollinearity are important, like marketing and customer behavior prediction models."
   ]
  },
  {
   "cell_type": "code",
   "execution_count": null,
   "id": "11695be6-9d99-4e87-ade9-b08a476f5e48",
   "metadata": {},
   "outputs": [],
   "source": [
    "'''\n",
    "Q5. How do you interpret the coefficients in Elastic Net Regression?\n",
    "'''\n",
    "\n",
    "Non-zero coefficients: The features with non-zero coefficients are considered important predictors.\n",
    "                        The sign (+/-) of the coefficient indicates the direction of the relationship with the target variable.\n",
    "                                  \n",
    "Magnitude: The magnitude of the coefficient indicates the strength of the relationship,\n",
    "            though coefficients may be shrunk due to regularization.\n",
    "                                  \n",
    "Zero coefficients: Any feature with a zero coefficient has been excluded from the model due to \n",
    "                the L1 regularization, indicating it does not contribute significantly.\n"
   ]
  },
  {
   "cell_type": "code",
   "execution_count": null,
   "id": "67b41b3a-ed52-4c63-b425-6e071cef1052",
   "metadata": {},
   "outputs": [],
   "source": [
    "'''\n",
    "Q6. How do you handle missing values when using Elastic Net Regression?\n",
    "'''\n",
    "Before applying Elastic Net Regression, missing values should be handled, as the algorithm \n",
    "does not support missing data directly. Common approaches include:\n",
    "\n",
    "Imputation: Fill missing values using mean, median, mode, or more advanced methods like K-Nearest Neighbors (KNN) imputation.\n",
    "Dropping Missing Values: If the amount of missing data is small, rows with missing values can be removed.\n"
   ]
  },
  {
   "cell_type": "code",
   "execution_count": null,
   "id": "741a4268-07f6-433f-aa87-11caff38f383",
   "metadata": {},
   "outputs": [],
   "source": [
    "'''\n",
    "Q7. How do you use Elastic Net Regression for feature selection?\n",
    "'''\n",
    "Elastic Net performs automatic feature selection through its L1 regularization component (Lasso), \n",
    "which shrinks some coefficients to zero.\n",
    "Features with zero coefficients are excluded from the model, while those with non-zero coefficients are considered important.\n",
    "\n",
    "Steps:\n",
    "Fit the Elastic Net model to the data.\n",
    "Extract the coefficients.\n",
    "Select the features with non-zero coefficients as the important features.\n"
   ]
  },
  {
   "cell_type": "code",
   "execution_count": null,
   "id": "7da673b3-9c1a-4509-b7c2-dcf3a108483f",
   "metadata": {},
   "outputs": [],
   "source": []
  },
  {
   "cell_type": "code",
   "execution_count": null,
   "id": "ed5b3544-2bd8-4fdf-9e92-fdea8fc386db",
   "metadata": {},
   "outputs": [],
   "source": []
  }
 ],
 "metadata": {
  "kernelspec": {
   "display_name": "Python 3 (ipykernel)",
   "language": "python",
   "name": "python3"
  },
  "language_info": {
   "codemirror_mode": {
    "name": "ipython",
    "version": 3
   },
   "file_extension": ".py",
   "mimetype": "text/x-python",
   "name": "python",
   "nbconvert_exporter": "python",
   "pygments_lexer": "ipython3",
   "version": "3.10.2"
  }
 },
 "nbformat": 4,
 "nbformat_minor": 5
}
